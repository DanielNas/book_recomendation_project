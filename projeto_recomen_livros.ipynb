{
 "cells": [
  {
   "cell_type": "code",
   "execution_count": null,
   "metadata": {},
   "outputs": [],
   "source": [
    "# Modelagem de dados\n",
    "import pandas             as pd\n",
    "import numpy              as np\n",
    "from numpy                import *\n",
    "\n",
    "# Análises graficas\n",
    "import matplotlib.pyplot  as plt\n",
    "import seaborn            as sns\n",
    "import plotly.express     as px\n",
    "import plotly.graph_objects as go\n",
    "from plotly.subplots import make_subplots\n",
    "import matplotlib.image   as mpimg\n",
    "\n",
    "# Ajuste no matplot\n",
    "plt.rcParams['figure.figsize'] = (15,6)\n",
    "plt.style.use('ggplot')\n",
    "\n",
    "# Machine Learnig\n",
    "from scipy.sparse         import csc_matrix\n",
    "from sklearn.neighbors    import NearestNeighbors\n",
    "from scipy.optimize       import brute\n",
    "\n",
    "# Framework\n",
    "import PIL\n",
    "import urllib\n",
    "import requests"
   ]
  },
  {
   "cell_type": "markdown",
   "metadata": {},
   "source": [
    "## Importação dos dados"
   ]
  },
  {
   "cell_type": "code",
   "execution_count": null,
   "metadata": {},
   "outputs": [],
   "source": [
    "# Ler os dados\n",
    "\n",
    "dados_livros = pd.read_csv(r'Dados_Recomendacao - Livro\\Books.csv', low_memory=False)\n",
    "dados_avaliacao = pd.read_csv(r'Dados_Recomendacao - Livro\\Ratings.csv')\n",
    "dados_usuarios = pd.read_csv(r'Dados_Recomendacao - Livro\\Users.csv')\n",
    "\n",
    "dados_livros.shape, dados_avaliacao.shape, dados_usuarios.shape"
   ]
  },
  {
   "cell_type": "markdown",
   "metadata": {},
   "source": [
    "### Verificando os dados"
   ]
  },
  {
   "cell_type": "code",
   "execution_count": null,
   "metadata": {},
   "outputs": [],
   "source": [
    "dados_livros.info()"
   ]
  },
  {
   "cell_type": "code",
   "execution_count": null,
   "metadata": {},
   "outputs": [],
   "source": [
    "dados_livros.head()"
   ]
  },
  {
   "cell_type": "code",
   "execution_count": null,
   "metadata": {},
   "outputs": [],
   "source": [
    "dados_avaliacao.info()"
   ]
  },
  {
   "cell_type": "code",
   "execution_count": null,
   "metadata": {},
   "outputs": [],
   "source": [
    "dados_avaliacao.head()"
   ]
  },
  {
   "cell_type": "code",
   "execution_count": null,
   "metadata": {},
   "outputs": [],
   "source": [
    "dados_usuarios.info()"
   ]
  },
  {
   "cell_type": "code",
   "execution_count": null,
   "metadata": {},
   "outputs": [],
   "source": [
    "dados_usuarios.head()"
   ]
  },
  {
   "cell_type": "markdown",
   "metadata": {},
   "source": [
    "## Modelagem dos dados"
   ]
  },
  {
   "cell_type": "code",
   "execution_count": null,
   "metadata": {},
   "outputs": [],
   "source": [
    "# Cruzando os dados dos livros com os dados de avaliação\n",
    "tab_cruzada = dados_livros.merge(dados_avaliacao, how='inner', on='ISBN')\n",
    "\n",
    "# Cruzando os dados dos livros com os dados dos usuarios\n",
    "tab_cruzada = tab_cruzada.merge(dados_usuarios, how='inner', on='User-ID')"
   ]
  },
  {
   "cell_type": "code",
   "execution_count": null,
   "metadata": {},
   "outputs": [],
   "source": [
    "tab_cruzada.shape"
   ]
  },
  {
   "cell_type": "code",
   "execution_count": null,
   "metadata": {},
   "outputs": [],
   "source": [
    "tab_cruzada.head()"
   ]
  },
  {
   "cell_type": "code",
   "execution_count": null,
   "metadata": {},
   "outputs": [],
   "source": [
    "tab_cruzada.info()"
   ]
  },
  {
   "cell_type": "code",
   "execution_count": null,
   "metadata": {},
   "outputs": [],
   "source": [
    "## Investigação dos dados ##\n",
    "\n",
    "# for linha in tab_cruzada['Year-Of-Publication'].value_counts().index:\n",
    "#   print(linha)\n",
    "\n",
    "# tab_cruzada.loc[tab_cruzada['Year-Of-Publication'] == 'DK Publishing Inc']\n",
    "\n",
    "# Ajustando o registro incorreto\n",
    "tab_cruzada.iloc[287500, 3] = ''\n",
    "tab_cruzada.iloc[352361, 3] = ''\n",
    "tab_cruzada.iloc[467962, 3] = ''\n",
    "tab_cruzada.iloc[469216, 3] = ''\n",
    "\n",
    "tab_cruzada['Year-Of-Publication'] = pd.to_numeric(tab_cruzada['Year-Of-Publication'])"
   ]
  },
  {
   "cell_type": "code",
   "execution_count": null,
   "metadata": {},
   "outputs": [],
   "source": [
    "tab_cruzada.dtypes"
   ]
  },
  {
   "cell_type": "code",
   "execution_count": null,
   "metadata": {},
   "outputs": [],
   "source": [
    "tab_cruzada['Location'].head()"
   ]
  },
  {
   "cell_type": "code",
   "execution_count": null,
   "metadata": {},
   "outputs": [],
   "source": [
    "tab_cruzada['Location'].tail()"
   ]
  },
  {
   "cell_type": "code",
   "execution_count": null,
   "metadata": {},
   "outputs": [],
   "source": [
    "# Tratamento de texto\n",
    "\n",
    "def extrair_pais(regiao):\n",
    "    '''\n",
    "        Funcao para extrair o nome do pais na coluna regiao\n",
    "    '''\n",
    "\n",
    "    # Incluindo a informação\n",
    "    registro = regiao \n",
    "\n",
    "    # Fatiar\n",
    "    registro = regiao.split(',')\n",
    "\n",
    "    #Buscar\n",
    "    fracao = registro[-1].upper()\n",
    "    \n",
    "    return fracao\n",
    "\n",
    "tab_cruzada['Pais'] = tab_cruzada['Location'].apply(extrair_pais)"
   ]
  },
  {
   "cell_type": "code",
   "execution_count": null,
   "metadata": {},
   "outputs": [],
   "source": [
    "tab_cruzada.head()"
   ]
  },
  {
   "cell_type": "code",
   "execution_count": null,
   "metadata": {},
   "outputs": [],
   "source": [
    "# Nulos\n",
    "tab_cruzada.isnull().sum()"
   ]
  },
  {
   "cell_type": "code",
   "execution_count": null,
   "metadata": {},
   "outputs": [],
   "source": [
    "tab_cruzada.nunique()"
   ]
  },
  {
   "cell_type": "markdown",
   "metadata": {},
   "source": [
    "## Visualização dos dados"
   ]
  },
  {
   "cell_type": "code",
   "execution_count": null,
   "metadata": {},
   "outputs": [],
   "source": [
    "# Análise descritiva\n",
    "\n",
    "tab_cruzada.describe()"
   ]
  },
  {
   "cell_type": "code",
   "execution_count": null,
   "metadata": {},
   "outputs": [],
   "source": [
    "tab_cruzada = tab_cruzada.loc[tab_cruzada['Book-Rating'] > 0]\n",
    "\n",
    "tab_cruzada.isnull().sum(), tab_cruzada.shape"
   ]
  },
  {
   "cell_type": "code",
   "execution_count": null,
   "metadata": {},
   "outputs": [],
   "source": [
    "tab_cruzada['Book-Rating'].describe()"
   ]
  },
  {
   "cell_type": "code",
   "execution_count": null,
   "metadata": {},
   "outputs": [],
   "source": [
    "# Análise gráfica\n",
    "\n",
    "plt.title('Analisando a avaliação')\n",
    "sns.boxplot(data=tab_cruzada, x = 'Book-Rating')"
   ]
  },
  {
   "cell_type": "code",
   "execution_count": null,
   "metadata": {},
   "outputs": [],
   "source": [
    "# Analise\n",
    "\n",
    "analise = tab_cruzada.groupby(by= 'Book-Title').agg(\n",
    "    quantidade = ('Book-Title', 'count'),\n",
    "    media = ('Book-Rating', 'mean'),\n",
    "    max = ('Book-Rating', 'max'),\n",
    "    min = ('Book-Rating', 'min'),\n",
    "    mediana = ('Book-Rating', 'median'),\n",
    ")\n",
    "analise.head()"
   ]
  },
  {
   "cell_type": "code",
   "execution_count": null,
   "metadata": {},
   "outputs": [],
   "source": [
    "analise.sort_values('quantidade', ascending=False).head()"
   ]
  },
  {
   "cell_type": "code",
   "execution_count": null,
   "metadata": {},
   "outputs": [],
   "source": [
    "analise.sort_values(['mediana', 'quantidade'], ascending=False).head()"
   ]
  },
  {
   "cell_type": "code",
   "execution_count": null,
   "metadata": {},
   "outputs": [],
   "source": [
    "# Analise Qtd vs Avaliação\n",
    "\n",
    "px.scatter(\n",
    "    data_frame = analise,\n",
    "    x = 'quantidade', y = 'media',\n",
    "    title = 'Média x Quantidade - Titulos',\n",
    ")"
   ]
  },
  {
   "cell_type": "code",
   "execution_count": null,
   "metadata": {},
   "outputs": [],
   "source": [
    "# Correlação\n",
    "analise.corr('spearman')"
   ]
  },
  {
   "cell_type": "code",
   "execution_count": null,
   "metadata": {},
   "outputs": [],
   "source": [
    "analise['quantidade'].describe()"
   ]
  },
  {
   "cell_type": "code",
   "execution_count": null,
   "metadata": {},
   "outputs": [],
   "source": [
    "\n",
    "def classificacao_quantidade(quantidade):\n",
    "    ''''\n",
    "    Agrupar a quantidade\n",
    "    '''\n",
    "\n",
    "    if int(quantidade) <= 5:\n",
    "        return '1 - 5 Avaliações'\n",
    "    elif int(quantidade) <= 10:\n",
    "        return '6 - 10 Avaliações'\n",
    "    elif int(quantidade) <= 50:\n",
    "        return '11 - 50 Avaliações'\n",
    "    elif int(quantidade) <= 100:\n",
    "        return '51 - 100 Avaliações'\n",
    "    else:\n",
    "        return '101 Avaliações'\n",
    "\n",
    "pizza = analise['quantidade'].apply(classificacao_quantidade).value_counts(normalize=True)\n",
    "\n",
    "pizza = pd.DataFrame(pizza).reset_index()\n",
    "\n",
    "px.pie(\n",
    "    data_frame=pizza,\n",
    "    names='index', values='quantidade',\n",
    "    title='Divisão das Quantidades'\n",
    ")"
   ]
  },
  {
   "cell_type": "code",
   "execution_count": null,
   "metadata": {},
   "outputs": [],
   "source": [
    "# Verificando\n",
    "\n",
    "pizza.head()"
   ]
  },
  {
   "cell_type": "code",
   "execution_count": null,
   "metadata": {},
   "outputs": [],
   "source": [
    "analise_ano = tab_cruzada['Year-Of-Publication'].value_counts().sort_index().reset_index()\n",
    "\n",
    "analise_ano.describe()"
   ]
  },
  {
   "cell_type": "code",
   "execution_count": null,
   "metadata": {},
   "outputs": [],
   "source": [
    "# Plot\n",
    "\n",
    "filtro = analise_ano.loc[(analise_ano['index'] > 1990) & (analise_ano['index'] < 2020 )]\n",
    "\n",
    "plt.title('Analisando ano da publicação')\n",
    "plt.bar(filtro['index'], filtro['Year-Of-Publication']);"
   ]
  },
  {
   "cell_type": "code",
   "execution_count": null,
   "metadata": {},
   "outputs": [],
   "source": [
    "tab_cruzada.groupby(by='Book-Author').agg(\n",
    "    quantidade = ('Book-Rating', 'count'),\n",
    "    media = ('Book-Rating', 'mean')\n",
    ").sort_values('quantidade', ascending=False).head(10)"
   ]
  },
  {
   "cell_type": "code",
   "execution_count": null,
   "metadata": {},
   "outputs": [],
   "source": [
    "# Concentração das avaliações\n",
    "\n",
    "tab_cruzada['Pais'].value_counts(normalize=True).head(10) * 100"
   ]
  },
  {
   "cell_type": "code",
   "execution_count": null,
   "metadata": {},
   "outputs": [],
   "source": [
    "# Concentração das avaliações acumulado\n",
    "\n",
    "tab_cruzada['Pais'].value_counts(normalize=True).cumsum().head(10) * 100"
   ]
  },
  {
   "cell_type": "code",
   "execution_count": null,
   "metadata": {},
   "outputs": [],
   "source": [
    "# Idade\n",
    "\n",
    "plt.title('Análise de Idades')\n",
    "sns.boxplot(data=tab_cruzada, x='Age')"
   ]
  },
  {
   "cell_type": "markdown",
   "metadata": {},
   "source": [
    "## Construção do Modelo"
   ]
  },
  {
   "cell_type": "code",
   "execution_count": null,
   "metadata": {},
   "outputs": [],
   "source": [
    "# Ajustar a avaliação dos livros --> tab_cruzada\n",
    "\n",
    "avaliacoes = analise.reset_index().iloc[:,0:2]\n",
    "\n",
    "df_final = tab_cruzada.merge(avaliacoes, how='inner', on='Book-Title')\n",
    "\n",
    "df_final.head()"
   ]
  },
  {
   "cell_type": "code",
   "execution_count": null,
   "metadata": {},
   "outputs": [],
   "source": [
    "# Filtrar os livros com menos de 50 avaliações\n",
    "\n",
    "livros_avaliados = df_final.loc[df_final['quantidade'] >= 50]\n",
    "\n",
    "livros_avaliados.shape"
   ]
  },
  {
   "cell_type": "code",
   "execution_count": null,
   "metadata": {},
   "outputs": [],
   "source": [
    "# Duplicados\n",
    "\n",
    "livros_avaliados.duplicated().sum()"
   ]
  },
  {
   "cell_type": "code",
   "execution_count": null,
   "metadata": {},
   "outputs": [],
   "source": [
    "# Gerando a matriz\n",
    "\n",
    "matriz = livros_avaliados.pivot_table(values='Book-Rating', index='Book-Title', columns='User-ID')\n",
    "\n",
    "matriz.fillna(0, inplace=True)\n",
    "\n",
    "matriz.head()"
   ]
  },
  {
   "cell_type": "code",
   "execution_count": null,
   "metadata": {},
   "outputs": [],
   "source": [
    "# Transformação para vetores\n",
    "\n",
    "matriz_sparse = csc_matrix(matriz)\n",
    "\n",
    "matriz_sparse"
   ]
  },
  {
   "cell_type": "code",
   "execution_count": null,
   "metadata": {},
   "outputs": [],
   "source": [
    "# Exemplo da função\n",
    "\n",
    "csc_matrix( (4,4), dtype=np.int8).toarray()"
   ]
  },
  {
   "cell_type": "code",
   "execution_count": null,
   "metadata": {},
   "outputs": [],
   "source": [
    "# Criar o modelo\n",
    "\n",
    "modelo = NearestNeighbors(\n",
    "    # Qtd de recomendações\n",
    "    n_neighbors=5,\n",
    "    # Algoritmo\n",
    "    algorithm='brute',\n",
    "    # Metrica da distancia\n",
    "    metric='minkowski'\n",
    ")\n",
    "\n",
    "modelo.fit(matriz_sparse)"
   ]
  },
  {
   "cell_type": "code",
   "execution_count": null,
   "metadata": {},
   "outputs": [],
   "source": [
    "# Recomendações\n",
    "# Escolher livro\n",
    "# \n",
    "# # Descobrir o livro do Harry Potter\n",
    "for posicao, Book_Title in enumerate(matriz.index):\n",
    "\n",
    "    if 'Harry' in Book_Title:\n",
    "        print(posicao, Book_Title)"
   ]
  },
  {
   "cell_type": "code",
   "execution_count": null,
   "metadata": {},
   "outputs": [],
   "source": [
    "# Selecionar o livro ########## O CLIENTE COMPROU ###########\n",
    "selecionar_livro = matriz.iloc[2, :].values.reshape(1, -1)\n",
    "\n",
    "# Previsão do modelo\n",
    "distancia, recomendacao = modelo.kneighbors(selecionar_livro)\n",
    "\n",
    "#### AVALIAÇÃO / SERIES / RENTABILIDADE / NOTICIAS ####\n",
    "\n",
    "# Ver as sugestões\n",
    "for loop in range(len(recomendacao)):\n",
    "\n",
    "    print(matriz.index[recomendacao[loop]])"
   ]
  },
  {
   "cell_type": "markdown",
   "metadata": {},
   "source": [
    "## Simulador"
   ]
  },
  {
   "cell_type": "code",
   "execution_count": null,
   "metadata": {},
   "outputs": [],
   "source": [
    "# Filtrando o link da imagem da capa do livro\n",
    "\n",
    "link = tab_cruzada.loc[tab_cruzada['Book-Title'] == '2nd Chance'].head(1)['Image-URL-L'].values[0]\n",
    "\n",
    "# Buscar as info dessa imagem\n",
    "\n",
    "imagem = PIL.Image.open(urllib.request.urlopen(link))\n",
    "imagem"
   ]
  },
  {
   "cell_type": "code",
   "execution_count": null,
   "metadata": {},
   "outputs": [],
   "source": [
    "# Lista para receber os links das recomendações\n",
    "lista_URL = []\n",
    "\n",
    "# Loop nas recomendações\n",
    "for loop in range(len(recomendacao)):\n",
    "\n",
    "    selecao_loop = (matriz.index[recomendacao[loop]])\n",
    "\n",
    "    lista_URL = selecao_loop\n",
    "\n",
    "# Filtrando o link das recomendaões\n",
    "link_recomendacao_1 = link_selecao = tab_cruzada.loc[tab_cruzada['Book-Title'] == lista_URL[1]].head(1)['Image-URL-L'].values[0]\n",
    "link_recomendacao_2 = link_selecao = tab_cruzada.loc[tab_cruzada['Book-Title'] == lista_URL[2]].head(1)['Image-URL-L'].values[0]\n",
    "link_recomendacao_3 = link_selecao = tab_cruzada.loc[tab_cruzada['Book-Title'] == lista_URL[3]].head(1)['Image-URL-L'].values[0]\n",
    "link_recomendacao_4 = link_selecao = tab_cruzada.loc[tab_cruzada['Book-Title'] == lista_URL[4]].head(1)['Image-URL-L'].values[0]"
   ]
  },
  {
   "cell_type": "code",
   "execution_count": null,
   "metadata": {},
   "outputs": [],
   "source": [
    "# Atribuindo as imagens\n",
    "\n",
    "imagem_01 = PIL.Image.open(urllib.request.urlopen(link_recomendacao_1))\n",
    "imagem_02 = PIL.Image.open(urllib.request.urlopen(link_recomendacao_2))\n",
    "imagem_03 = PIL.Image.open(urllib.request.urlopen(link_recomendacao_3))\n",
    "imagem_04 = PIL.Image.open(urllib.request.urlopen(link_recomendacao_4))"
   ]
  },
  {
   "cell_type": "code",
   "execution_count": null,
   "metadata": {},
   "outputs": [],
   "source": [
    "from matplotlib.pyplot import title\n",
    "\n",
    "titulos = ['Seleção', 'Recomendação 1', 'Recomendação 2', 'Recomendação 3','Recomendação 4']\n",
    "\n",
    "# Criando a figura\n",
    "figura = make_subplots(\n",
    "    rows=1,\n",
    "    cols=5,\n",
    "    subplot_titles=titulos\n",
    ")\n",
    "\n",
    "# Ajustando o layout\n",
    "figura.update_layout(\n",
    "    height=500,\n",
    "    width=1200,\n",
    "    title_text='Sistema de recomendação',\n",
    "    showlegend=False\n",
    ")\n",
    "\n",
    "# Imagem da seleção\n",
    "figura.add_trace(\n",
    "    go.Image(\n",
    "        z=imagem,\n",
    "    ),\n",
    "    row=1, col=1\n",
    ")\n",
    "\n",
    "# Imagem da recomendação 1\n",
    "figura.add_trace(\n",
    "    go.Image(\n",
    "        z=imagem_01,\n",
    "    ),\n",
    "    row=1, col=2\n",
    ")\n",
    "\n",
    "# Imagem da recomendação 2\n",
    "figura.add_trace(\n",
    "    go.Image(\n",
    "        z=imagem_02,\n",
    "    ),\n",
    "    row=1, col=3\n",
    ")\n",
    "\n",
    "# Imagem da recomendação 3\n",
    "figura.add_trace(\n",
    "    go.Image(\n",
    "        z=imagem_03,\n",
    "    ),\n",
    "    row=1, col=4\n",
    ")\n",
    "\n",
    "# Imagem da recomendação 4\n",
    "figura.add_trace(\n",
    "    go.Image(\n",
    "        z=imagem_04,\n",
    "    ),\n",
    "    row=1, col=5\n",
    ")\n",
    "\n",
    "# Mostrar\n",
    "figura.show()"
   ]
  }
 ],
 "metadata": {
  "kernelspec": {
   "display_name": "Python 3 (ipykernel)",
   "language": "python",
   "name": "python3"
  },
  "language_info": {
   "codemirror_mode": {
    "name": "ipython",
    "version": 3
   },
   "file_extension": ".py",
   "mimetype": "text/x-python",
   "name": "python",
   "nbconvert_exporter": "python",
   "pygments_lexer": "ipython3",
   "version": "3.9.12"
  },
  "vscode": {
   "interpreter": {
    "hash": "8b16e693bcdb0a5a9b3edef6efd2ea93d59734340a576760d0022979843b1fd4"
   }
  }
 },
 "nbformat": 4,
 "nbformat_minor": 2
}
